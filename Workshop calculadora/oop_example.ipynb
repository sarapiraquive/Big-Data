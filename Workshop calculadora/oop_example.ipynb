{
  "cells": [
    {
      "cell_type": "markdown",
      "id": "0ffb5611-3d3b-40ce-b24b-200a14570ee9",
      "metadata": {},
      "source": [
        "### OOP for Big Data\n",
        "#### Course: Big Data Tools\n",
        "#### Prof.: Hugo Franco, PhD"
      ]
    },
    {
      "cell_type": "markdown",
      "id": "ef634cf7-df39-4106-b19b-455e009b8bfe",
      "metadata": {},
      "source": [
        "#### Class definition\n",
        "Classes in Python are defined online (as in Java) and their constructor is specified through the __init__ function that always uses the self parameter (pointer to the object itself). The attributes are defined from their initialization in the __init__ function.\n",
        "The __str__ function provides a simple representation of the object, able to be used in standard output"
      ]
    },
    {
      "cell_type": "code",
      "execution_count": 16,
      "id": "c1e2edaa-137b-4f27-a077-e0a3ef70e4e3",
      "metadata": {
        "trusted": true
      },
      "outputs": [],
      "source": [
        "import sys\n",
        "import os\n",
        "sys.path.append('./calc') # change to the selected path in your configuration as necessary\n",
        "from Calculadora import Calculadora"
      ]
    },
    {
      "cell_type": "code",
      "execution_count": 17,
      "id": "d8ee637b-ef4b-4dd0-9f35-94a7c640c1a6",
      "metadata": {
        "trusted": true
      },
      "outputs": [
        {
          "name": "stdout",
          "output_type": "stream",
          "text": [
            "/Users/sarapiraquive/Downloads/Workshop calculadora\n"
          ]
        }
      ],
      "source": [
        "# Get the current working directory (if needed)\n",
        "print(os.getcwd())"
      ]
    },
    {
      "cell_type": "code",
      "execution_count": 18,
      "id": "4006c272-f5f3-4e42-bc32-815ae1ce8eaa",
      "metadata": {
        "trusted": true
      },
      "outputs": [
        {
          "name": "stdout",
          "output_type": "stream",
          "text": [
            "9.120000000000001\n"
          ]
        }
      ],
      "source": [
        "calc=Calculadora(3.12,6.0,'+')"
      ]
    },
    {
      "cell_type": "code",
      "execution_count": 19,
      "id": "40753556-77fa-49af-8cd8-2134b0368407",
      "metadata": {
        "trusted": true
      },
      "outputs": [
        {
          "data": {
            "text/plain": [
              "11"
            ]
          },
          "execution_count": 19,
          "metadata": {},
          "output_type": "execute_result"
        }
      ],
      "source": [
        "calc.suma(4,7)"
      ]
    },
    {
      "cell_type": "code",
      "execution_count": 20,
      "id": "9278262e-36d2-4bb8-a489-7b8eb9c5b8fc",
      "metadata": {
        "trusted": true
      },
      "outputs": [
        {
          "name": "stdout",
          "output_type": "stream",
          "text": [
            "Gestión de excepciones: division by zero\n"
          ]
        },
        {
          "data": {
            "text/plain": [
              "'valor no definido'"
            ]
          },
          "execution_count": 20,
          "metadata": {},
          "output_type": "execute_result"
        }
      ],
      "source": [
        "calc.division(5,0)"
      ]
    },
    {
      "cell_type": "code",
      "execution_count": 21,
      "id": "0dbc2df4-03d2-404a-9760-bc362ae47a66",
      "metadata": {
        "trusted": true
      },
      "outputs": [
        {
          "data": {
            "text/plain": [
              "2.38"
            ]
          },
          "execution_count": 21,
          "metadata": {},
          "output_type": "execute_result"
        }
      ],
      "source": [
        "calc.resta(3.28,0.9)"
      ]
    },
    {
      "cell_type": "code",
      "execution_count": 22,
      "id": "3c971a46-ed8e-4ad6-b997-e773b62b183c",
      "metadata": {
        "trusted": true
      },
      "outputs": [
        {
          "name": "stdout",
          "output_type": "stream",
          "text": [
            "3.28-0.9\n"
          ]
        }
      ],
      "source": [
        "print(calc)"
      ]
    },
    {
      "cell_type": "markdown",
      "id": "dc9d8aee-d5b0-4f5c-8c33-ae9610560cdc",
      "metadata": {},
      "source": [
        "##### __Workshop__:\n",
        "\n",
        "Challenge 1: Refactoring the Constructor\n",
        "The current __init__ method handles both attribute initialization and calculation logic. This violates the principle of a constructor, which should primarily set up the object's initial state.\n",
        "\n",
        "Task: Refactor the __init__ method so that it only initializes the operando1, operando2, and operacion attributes. Remove the conditional logic that performs a calculation upon object creation.\n",
        "\n",
        "Hint: The goal is for Calculadora(5, 3, '+') to create an object with operando1=5, operando2=3, and operacion='+', but it should not print 8 until a method is explicitly called.\n",
        "\n",
        "Challenge 2: Consistency in Operations\n",
        "The existing methods (suma, resta, multiplicacion, division) have an inconsistent behavior. The resta method sets the self.operacion attribute, but the others do not. This can lead to bugs, especially with the __str__ method.\n",
        "\n",
        "Task: Modify the suma, multiplicacion, and division methods so that they consistently set the self.operacion attribute to the appropriate symbol (+, *, /) before returning the result.\n",
        "\n",
        "Challenge 3: Improving the String Representation\n",
        "The __str__ method is useful for a human-readable representation of the object. However, if you create a Calculadora object without specifying an operation, calling print(my_calculator) will fail.\n",
        "\n",
        "Task: Modify the __str__ method to handle cases where no operation has been performed yet. If self.operacion is None, the method should return a more descriptive message, such as \"Calculadora en espera\". Otherwise, it should return the current string representation.\n",
        "\n",
        "Challenge 4: Handling Single-Operand Operations\n",
        "Many calculators have functions that operate on a single number, such as squaring a number or finding its square root.\n",
        "\n",
        "Task: Add a new method, potencia(self, exponente), that calculates self.operando1 to the power of exponente. The method should update self.operacion and store the result.\n",
        "\n",
        "Bonus: Add a raiz_cuadrada(self) method that calculates the square root of self.operando1. This method does not require a second operand. You will need to import the math module for this.\n",
        "\n",
        "Challenge 5: Method Chaining for Continuous Calculations\n",
        "Currently, to perform a series of calculations, you would need to create a new Calculadora object or manually update its operands. A more elegant solution is to allow method chaining, where each operation can be followed by another.\n",
        "\n",
        "Task: Modify the suma, resta, multiplicacion, and division methods to return the self object instead of the calculated result. The calculated result should be stored in self.operando1 so it can be used for the next operation.\n",
        "\n",
        "Example Usage: After this change, the following code should work:\n",
        "\n",
        "calc = Calculadora(10)\n",
        "result = calc.suma(5).multiplicacion(2)\n",
        "print(result.operando1) # Should print 30\n",
        "\n",
        "Challenge 6: Building a CalculadoraCientifica with Inheritance\n",
        "Inheritance is a fundamental concept in object-oriented programming. It allows us to create a new class that reuses the code from an existing one.\n",
        "\n",
        "Task: Create a new class named CalculadoraCientifica that inherits from Calculadora. This new class should be able to perform all the basic operations of its parent class, but it should also include a new method: seno(self). This method should calculate the sine of self.operando1 (assuming it is in radians) and store the result.\n",
        "\n",
        "Bonus: Add methods for coseno(self) and tangente(self).\n",
        "\n",
        "Challenge 7: Robust Error Handling\n",
        "The current code only handles ZeroDivisionError. What if a user tries to perform a calculation with non-numeric inputs, like strings?\n",
        "\n",
        "Task: Wrap the calculation logic within each of the core methods (suma, resta, multiplicacion, division) with a try...except block. Catch a TypeError and, in case of an error, print a message explaining that the operands must be numeric and return None.\n",
        "\n",
        "Hint: The try...except block should be placed around the line where the actual calculation happens, e.g., return self.operando1 + self.operando2."
      ]
    },
    {
      "cell_type": "markdown",
      "id": "6f61d0ab-ccfb-47f9-abed-5a53a3c48816",
      "metadata": {},
      "source": [
        "#### Runtime type checking\n",
        "Since Python is an interpreted language, runtime type checking is simple and allows to control the code execution according to the type of the parameters and variables\n",
        "In Python, all data types, even the base types of the language, are classes. "
      ]
    },
    {
      "cell_type": "code",
      "execution_count": 23,
      "id": "1b016a1d-2692-48f2-973f-5147fcabea4b",
      "metadata": {
        "trusted": true
      },
      "outputs": [
        {
          "name": "stdout",
          "output_type": "stream",
          "text": [
            "<class 'int'>\n",
            "<class 'float'>\n",
            "<class 'str'>\n",
            "<class 'str'>\n",
            "<class 'bool'>\n",
            "<class 'bool'>\n",
            "<class 'NoneType'>\n",
            "Is a number\n"
          ]
        }
      ],
      "source": [
        "# Type checking can be performed on both literals and variables\n",
        "flag=False\n",
        "length=22.32320\n",
        "caracter='^'\n",
        "print(type(2))         # returns 'int'\n",
        "print(type(length))    # returns 'float'\n",
        "\n",
        "# In Python, strings and chars are the same\n",
        "print(type(caracter))         # retorna 'str'\n",
        "print(type('two'))     # returns 'str'\n",
        "print(type(flag))      # returns 'bool'\n",
        "print(type(True))      # returns 'bool'\n",
        "\n",
        "# None is of type NoneType (useful for undefined values)\n",
        "print(type(None))      # returns 'NoneType'\n",
        "\n",
        "if type(length) is int or type(length) is float:\n",
        "    print(\"Is a number\")\n",
        "else:\n",
        "    print(\"Is not a number\")"
      ]
    }
  ],
  "metadata": {
    "kernelspec": {
      "display_name": "base",
      "language": "python",
      "name": "python3"
    },
    "language_info": {
      "codemirror_mode": {
        "name": "ipython",
        "version": 3
      },
      "file_extension": ".py",
      "mimetype": "text/x-python",
      "name": "python",
      "nbconvert_exporter": "python",
      "pygments_lexer": "ipython3",
      "version": "3.12.4"
    }
  },
  "nbformat": 4,
  "nbformat_minor": 5
}
